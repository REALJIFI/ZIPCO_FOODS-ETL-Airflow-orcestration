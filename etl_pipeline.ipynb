{
 "cells": [
  {
   "cell_type": "code",
   "execution_count": 52,
   "metadata": {},
   "outputs": [],
   "source": [
    "# installing necessary packages\n",
    "\n",
    "#!pip install pandas azure-storage-blob dotenv"
   ]
  },
  {
   "cell_type": "code",
   "execution_count": 53,
   "metadata": {},
   "outputs": [],
   "source": [
    "# importing necessary libraries\n",
    "import pandas as pd\n",
    "from azure.storage.blob import BlobServiceClient\n",
    "from dotenv import load_dotenv\n",
    "import os "
   ]
  },
  {
   "cell_type": "code",
   "execution_count": 54,
   "metadata": {},
   "outputs": [
    {
     "name": "stdout",
     "output_type": "stream",
     "text": [
      "Data Extracted successfully!\n"
     ]
    }
   ],
   "source": [
    "# Data Extraction\n",
    "try:\n",
    "    data = pd.read_csv('zipco_transaction.csv')\n",
    "    print('Data Extracted successfully!')\n",
    "except Exception as e:\n",
    "    print(f\"an error occured : {e}\")"
   ]
  },
  {
   "cell_type": "code",
   "execution_count": null,
   "metadata": {},
   "outputs": [],
   "source": [
    "data.info()"
   ]
  },
  {
   "cell_type": "code",
   "execution_count": 56,
   "metadata": {},
   "outputs": [],
   "source": [
    "# remove duplicates\n",
    "data.drop_duplicates(inplace=True)"
   ]
  },
  {
   "cell_type": "code",
   "execution_count": 57,
   "metadata": {},
   "outputs": [],
   "source": [
    "# Handle missing values( filling missing numeric values with mean and median)\n",
    "numeric_columns = data.select_dtypes(include=['float64', 'int64']).columns\n",
    "for col in numeric_columns:\n",
    "    data.fillna({col: data[col].mean()},inplace=True)\n",
    "    \n",
    "    "
   ]
  },
  {
   "cell_type": "code",
   "execution_count": null,
   "metadata": {},
   "outputs": [],
   "source": [
    "# Handle missing values (where there is string/object with unknown)\n",
    "string_column = data.select_dtypes(include=['object']).columns\n",
    "for col in string_column:\n",
    "    data.fillna({col: 'unknown'},inplace=True)\n",
    "\n",
    "    data.info()"
   ]
  },
  {
   "cell_type": "code",
   "execution_count": 59,
   "metadata": {},
   "outputs": [],
   "source": [
    "data['Date']= pd.to_datetime(data['Date'])"
   ]
  },
  {
   "cell_type": "code",
   "execution_count": null,
   "metadata": {},
   "outputs": [],
   "source": [
    "# Creating dimension tables \n",
    "products = data[['ProductName', 'UnitPrice']].drop_duplicates().reset_index(drop=True)\n",
    "# add product ID to the table\n",
    "products.index.name = 'Product_ID'\n",
    "products = products.reset_index()\n",
    "products.head(15)"
   ]
  },
  {
   "cell_type": "code",
   "execution_count": null,
   "metadata": {},
   "outputs": [],
   "source": [
    "# Customers table\n",
    "customers = data[['CustomerName', 'CustomerAddress','Customer_PhoneNumber','CustomerEmail']].drop_duplicates().reset_index(drop=True)\n",
    "# add product ID to the table\n",
    "customers.index.name = 'Customer_ID'\n",
    "# make product id the first column on the table\n",
    "customers = customers.reset_index()\n",
    "customers.head(15)"
   ]
  },
  {
   "cell_type": "code",
   "execution_count": null,
   "metadata": {},
   "outputs": [],
   "source": [
    "# Staff table\n",
    "Staff = data[['Staff_Name', 'Staff_Email']].drop_duplicates().reset_index(drop=True)\n",
    "# add product ID to the table\n",
    "Staff.index.name = 'Staff_ID'\n",
    "Staff = Staff.reset_index()\n",
    "Staff.head(15)"
   ]
  },
  {
   "cell_type": "code",
   "execution_count": null,
   "metadata": {},
   "outputs": [],
   "source": [
    "data.columns"
   ]
  },
  {
   "cell_type": "code",
   "execution_count": 64,
   "metadata": {},
   "outputs": [],
   "source": [
    "# Transactions Table\n",
    "Transaction = data.merge(products, on=['ProductName', 'UnitPrice'],how = 'left')\\\n",
    "                  .merge(customers, on=['CustomerName', 'CustomerAddress','Customer_PhoneNumber','CustomerEmail'],how = 'left')\\\n",
    "                  .merge(Staff, on=['Staff_Name', 'Staff_Email',],how = 'left')\n",
    "Transaction.index.name = 'Transaction_ID'\n",
    "Transaction = Transaction.reset_index()\\\n",
    "                         [['Date','Transaction_ID','Product_ID','Customer_ID','Staff_ID','Quantity','OrderType',\\\n",
    "                           'StoreLocation','PaymentType', 'PromotionApplied', 'Weather', 'Temperature',\\\n",
    "                           'StaffPerformanceRating', 'CustomerFeedback', 'DeliveryTime_min', 'DayOfWeek','TotalSales']]"
   ]
  },
  {
   "cell_type": "code",
   "execution_count": 66,
   "metadata": {},
   "outputs": [],
   "source": [
    "# Save data as csv\n",
    "data.to_csv('clean_data.csv', index= False)\n",
    "Transaction.to_csv('Transaction.csv', index= False)\n",
    "products.to_csv('products.csv', index= False)\n",
    "customers.to_csv('customers.csv', index= False)\n",
    "Staff.to_csv('Staff.csv', index= False)"
   ]
  },
  {
   "cell_type": "code",
   "execution_count": 67,
   "metadata": {},
   "outputs": [],
   "source": [
    "# Data loading to azure\n",
    "# load the environment variables from .env\n",
    "load_dotenv()\n",
    "connect_str = os.getenv('CONNECT_STR')\n",
    "container_name = os.getenv('CONTAINER_NAME')"
   ]
  },
  {
   "cell_type": "code",
   "execution_count": null,
   "metadata": {},
   "outputs": [],
   "source": [
    "# Create Blobservice client object\n",
    "\n",
    "blob_service_client = BlobServiceClient.from_connection_string(connect_str)\n",
    "container_client = blob_service_client.get_container_client(container_name)\n",
    "\n",
    "# load data into azure blob storage\n",
    "files = [\n",
    "    (data, 'rawdata/clean_zipco_Transaction_data.csv'), # creating a folder inside the created contanier\n",
    "    (products, 'cleandata/products.csv'),\n",
    "    (customers, 'cleandata/customers.csv'),\n",
    "    (Staff, 'cleandata/Staff.csv'),\n",
    "    (Transaction, 'cleandata/Transaction.csv'),\n",
    "]\n",
    "\n",
    "for file, blob_name in files:\n",
    "    blob_client = container_client.get_blob_client(blob_name)\n",
    "    output = file.to_csv(index=False)\n",
    "    blob_client.upload_blob(output, overwrite=True)\n",
    "    print(f'{blob_name} loaded into azure storage')"
   ]
  }
 ],
 "metadata": {
  "kernelspec": {
   "display_name": "Python 3",
   "language": "python",
   "name": "python3"
  },
  "language_info": {
   "codemirror_mode": {
    "name": "ipython",
    "version": 3
   },
   "file_extension": ".py",
   "mimetype": "text/x-python",
   "name": "python",
   "nbconvert_exporter": "python",
   "pygments_lexer": "ipython3",
   "version": "3.12.6"
  }
 },
 "nbformat": 4,
 "nbformat_minor": 2
}
